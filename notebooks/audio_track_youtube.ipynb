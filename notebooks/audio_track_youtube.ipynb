{
 "cells": [
  {
   "cell_type": "code",
   "execution_count": 2,
   "metadata": {},
   "outputs": [],
   "source": [
    "#homebrew\n",
    "#/bin/bash -c \"$(curl -fsSL https://raw.githubusercontent.com/Homebrew/install/HEAD/install.sh)\""
   ]
  },
  {
   "cell_type": "code",
   "execution_count": 1,
   "metadata": {},
   "outputs": [],
   "source": [
    "#ffmpeg\n",
    "#brew install ffmpeg\n",
    "#brew update && brew upgrade ffmpeg"
   ]
  },
  {
   "cell_type": "code",
   "execution_count": 5,
   "metadata": {},
   "outputs": [],
   "source": [
    "from youtube_dl import YoutubeDL\n",
    "audio_downloader = YoutubeDL({'format':'bestaudio'})"
   ]
  },
  {
   "cell_type": "code",
   "execution_count": 8,
   "metadata": {},
   "outputs": [
    {
     "name": "stdout",
     "output_type": "stream",
     "text": [
      "Введите урл:  https://www.youtube.com/watch?v=T-7UvUevk5M\n"
     ]
    }
   ],
   "source": [
    "URL = input('Введите урл:  ')"
   ]
  },
  {
   "cell_type": "code",
   "execution_count": 10,
   "metadata": {},
   "outputs": [
    {
     "name": "stdout",
     "output_type": "stream",
     "text": [
      "Загрузка аудио\n",
      "[youtube] T-7UvUevk5M: Downloading webpage\n",
      "[download] Destination: Пара за два месяца до свадьбы. О чем нам стоит договориться _ Секреты-T-7UvUevk5M.m4a\n",
      "[download] 100% of 6.39MiB in 01:1835KiB/s ETA 00:003\n",
      "[ffmpeg] Correcting container in \"Пара за два месяца до свадьбы. О чем нам стоит договориться _ Секреты-T-7UvUevk5M.m4a\"\n"
     ]
    }
   ],
   "source": [
    "while True:\n",
    "    try:\n",
    "        print('Загрузка аудио')\n",
    "        audio_downloader.extract_info(URL)\n",
    "    except Exception:\n",
    "        print ('Загрузка этого видео не удалась')\n",
    "    finally:\n",
    "        break"
   ]
  },
  {
   "cell_type": "code",
   "execution_count": null,
   "metadata": {},
   "outputs": [],
   "source": []
  }
 ],
 "metadata": {
  "kernelspec": {
   "display_name": "Python 3",
   "language": "python",
   "name": "python3"
  },
  "language_info": {
   "codemirror_mode": {
    "name": "ipython",
    "version": 3
   },
   "file_extension": ".py",
   "mimetype": "text/x-python",
   "name": "python",
   "nbconvert_exporter": "python",
   "pygments_lexer": "ipython3",
   "version": "3.7.0"
  }
 },
 "nbformat": 4,
 "nbformat_minor": 5
}
