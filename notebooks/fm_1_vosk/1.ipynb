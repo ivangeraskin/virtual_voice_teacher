{
 "cells": [
  {
   "cell_type": "code",
   "execution_count": 1,
   "id": "3887273a-f36d-4e9c-8d89-e42936cfab7b",
   "metadata": {},
   "outputs": [],
   "source": [
    "from vosk import Model, KaldiRecognizer, SetLogLevel\n",
    "from pydub import AudioSegment\n",
    "import subprocess\n",
    "import json\n",
    "import os"
   ]
  },
  {
   "cell_type": "code",
   "execution_count": 2,
   "id": "bc829d92-155a-49b0-b655-762171d28edb",
   "metadata": {},
   "outputs": [],
   "source": [
    "SetLogLevel(0)\n",
    "\n",
    "# Проверяем наличие модели\n",
    "if not os.path.exists(\"model\"):\n",
    "    print (\"Please download the model from https://alphacephei.com/vosk/models and unpack as 'model' in the current folder.\")\n",
    "    raise Exception(\"Where is my model\")"
   ]
  },
  {
   "cell_type": "code",
   "execution_count": 3,
   "id": "203a13df-ba32-4286-9b6a-0b6f47c218b7",
   "metadata": {},
   "outputs": [
    {
     "name": "stderr",
     "output_type": "stream",
     "text": [
      "LOG (VoskAPI:ReadDataFiles():model.cc:213) Decoding params beam=13 max-active=7000 lattice-beam=6\n",
      "LOG (VoskAPI:ReadDataFiles():model.cc:216) Silence phones 1:2:3:4:5:6:7:8:9:10\n",
      "LOG (VoskAPI:RemoveOrphanNodes():nnet-nnet.cc:948) Removed 1 orphan nodes.\n",
      "LOG (VoskAPI:RemoveOrphanComponents():nnet-nnet.cc:847) Removing 2 orphan components.\n",
      "LOG (VoskAPI:Collapse():nnet-utils.cc:1488) Added 1 components, removed 2\n",
      "LOG (VoskAPI:ReadDataFiles():model.cc:248) Loading i-vector extractor from model/ivector/final.ie\n",
      "LOG (VoskAPI:ComputeDerivedVars():ivector-extractor.cc:183) Computing derived variables for iVector extractor\n",
      "LOG (VoskAPI:ComputeDerivedVars():ivector-extractor.cc:204) Done.\n",
      "LOG (VoskAPI:ReadDataFiles():model.cc:279) Loading HCLG from model/graph/HCLG.fst\n",
      "LOG (VoskAPI:ReadDataFiles():model.cc:294) Loading words from model/graph/words.txt\n",
      "LOG (VoskAPI:ReadDataFiles():model.cc:303) Loading winfo model/graph/phones/word_boundary.int\n",
      "LOG (VoskAPI:ReadDataFiles():model.cc:310) Loading subtract G.fst model from model/rescore/G.fst\n",
      "LOG (VoskAPI:ReadDataFiles():model.cc:312) Loading CARPA model from model/rescore/G.carpa\n",
      "LOG (VoskAPI:ReadDataFiles():model.cc:318) Loading RNNLM model from model/rnnlm/final.raw\n"
     ]
    }
   ],
   "source": [
    "# Устанавливаем Frame Rate\n",
    "FRAME_RATE = 16000\n",
    "CHANNELS=1\n",
    "\n",
    "model = Model(\"model\", lang=\"en-ru\")\n",
    "rec = KaldiRecognizer(model, FRAME_RATE)\n",
    "rec.SetWords(True)"
   ]
  },
  {
   "cell_type": "code",
   "execution_count": 6,
   "id": "f0b42e7e-e721-4168-9b5b-55b8fddd15f7",
   "metadata": {},
   "outputs": [],
   "source": [
    "# Используя библиотеку pydub делаем предобработку аудио\n",
    "mp3 = AudioSegment.from_file(\"/home/urev/projects/virtual_voice_teacher/data/processed/10 глупых вопрос РЕСТАВРАТОРУ-qO-Qd-QUoUI_[240_360].mp3\")\n",
    "mp3 = mp3.set_channels(CHANNELS)\n",
    "mp3 = mp3.set_frame_rate(FRAME_RATE)"
   ]
  },
  {
   "cell_type": "code",
   "execution_count": 7,
   "outputs": [
    {
     "data": {
      "text/plain": "'действует время но очень многих факторов отличает живого организма нет то есть не может быть сепсиса после операции у картины поэтому конечно у нас меньше ответственности чем у врачей если говорить про картины то реставрация в общем-то делится на две большие категории консервация и собственно сама реставрация в чем разница я уже немножко начала про это говорить что консервация это значит что мы должны укрепить что есть сохранить это техническая часть где происходит укрепление основы да то на чем в случае с иконами это холст или доска случае с картиной точнее холст или доска в случае с иконами доска в случае например со скульптурой это собственно вот сам материал скульптуры который тоже разрушаются со временем в случае с бумагой это именно материал бумаги мы должны сделать так чтобы предмет перестал разрушаться это техническая сторона а дальше уже решается двигается дальше реставратор или нет если нужно восстановить утраты если нужно удалить какие-то более поздние следы времени то есть загрязнения или например в случае с картинами жёлтый лак или кто-то что-то нарисовал поверх неважно чего картины скульптуры здания здесь уже нужно посмотреть с точки зрения эстетики с точки зрения произведения искусства и понять стоит ли это делать или нет это немножко другой навык ну и соответственно навыкам художника тоже должны обладать человек и должен точнее может да вопрос в том что могут делать реставраторам он может восстановить это так как оно должно быть так как оно задумывалось художниками но во-первых надо понимать что даже если это не мы удалили оно само как-то потерялось кусочек со временем то мы можем это нарисовать это наша профессия'"
     },
     "execution_count": 7,
     "metadata": {},
     "output_type": "execute_result"
    }
   ],
   "source": [
    "# Преобразуем вывод в json\n",
    "rec.AcceptWaveform(mp3.raw_data)\n",
    "result = rec.Result()\n",
    "text = json.loads(result)[\"text\"]\n",
    "text"
   ],
   "metadata": {
    "collapsed": false
   }
  },
  {
   "cell_type": "code",
   "execution_count": null,
   "outputs": [],
   "source": [
    "result"
   ],
   "metadata": {
    "collapsed": false
   }
  },
  {
   "cell_type": "code",
   "execution_count": null,
   "id": "48805972-b6e7-4cae-ade3-98ac627d1418",
   "metadata": {},
   "outputs": [],
   "source": [
    "# Добавляем пунктуацию\n",
    "cased = subprocess.check_output('python3 recasepunc/recasepunc.py predict recasepunc/checkpoint', shell=True, text=True, input=text)\n",
    "\n",
    "# Записываем результат в файл \"data.txt\"\n",
    "with open('data.txt', 'w') as f:\n",
    "    json.dump(cased, f, ensure_ascii=False, indent=4)"
   ]
  }
 ],
 "metadata": {
  "kernelspec": {
   "name": "python3",
   "language": "python",
   "display_name": "Python 3 (ipykernel)"
  },
  "language_info": {
   "codemirror_mode": {
    "name": "ipython",
    "version": 3
   },
   "file_extension": ".py",
   "mimetype": "text/x-python",
   "name": "python",
   "nbconvert_exporter": "python",
   "pygments_lexer": "ipython3",
   "version": "3.9.7"
  }
 },
 "nbformat": 4,
 "nbformat_minor": 5
}
