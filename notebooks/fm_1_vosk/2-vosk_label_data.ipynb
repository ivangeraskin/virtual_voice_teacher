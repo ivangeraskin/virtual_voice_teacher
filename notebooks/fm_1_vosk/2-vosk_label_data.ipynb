{
 "cells": [
  {
   "cell_type": "markdown",
   "id": "6ccaf4d1-daa3-446f-86ac-92229d976dad",
   "metadata": {},
   "source": [
    "Перевести собранные аудиозаписи в текст"
   ]
  },
  {
   "cell_type": "code",
   "execution_count": 2,
   "id": "cbf6973c-84e5-4f9c-9ba7-1f8a3b08333e",
   "metadata": {},
   "outputs": [],
   "source": [
    "from vosk import Model, KaldiRecognizer, SetLogLevel\n",
    "from pydub import AudioSegment\n",
    "import subprocess\n",
    "import json\n",
    "import os"
   ]
  },
  {
   "cell_type": "code",
   "execution_count": 3,
   "id": "32418e36-c31a-4b06-9bee-1c0cd64fd54a",
   "metadata": {},
   "outputs": [],
   "source": [
    "# Устанавливаем Frame Rate\n",
    "FRAME_RATE = 16000\n",
    "CHANNELS=1"
   ]
  },
  {
   "cell_type": "code",
   "execution_count": 4,
   "id": "df8b4da4-949c-43c8-acfa-3043fe82f578",
   "metadata": {},
   "outputs": [
    {
     "name": "stderr",
     "output_type": "stream",
     "text": [
      "LOG (VoskAPI:ReadDataFiles():model.cc:213) Decoding params beam=13 max-active=7000 lattice-beam=6\n",
      "LOG (VoskAPI:ReadDataFiles():model.cc:216) Silence phones 1:2:3:4:5:6:7:8:9:10\n",
      "LOG (VoskAPI:RemoveOrphanNodes():nnet-nnet.cc:948) Removed 1 orphan nodes.\n",
      "LOG (VoskAPI:RemoveOrphanComponents():nnet-nnet.cc:847) Removing 2 orphan components.\n",
      "LOG (VoskAPI:Collapse():nnet-utils.cc:1488) Added 1 components, removed 2\n",
      "LOG (VoskAPI:ReadDataFiles():model.cc:248) Loading i-vector extractor from model/ivector/final.ie\n",
      "LOG (VoskAPI:ComputeDerivedVars():ivector-extractor.cc:183) Computing derived variables for iVector extractor\n",
      "LOG (VoskAPI:ComputeDerivedVars():ivector-extractor.cc:204) Done.\n",
      "LOG (VoskAPI:ReadDataFiles():model.cc:279) Loading HCLG from model/graph/HCLG.fst\n",
      "LOG (VoskAPI:ReadDataFiles():model.cc:294) Loading words from model/graph/words.txt\n",
      "LOG (VoskAPI:ReadDataFiles():model.cc:303) Loading winfo model/graph/phones/word_boundary.int\n",
      "LOG (VoskAPI:ReadDataFiles():model.cc:310) Loading subtract G.fst model from model/rescore/G.fst\n",
      "LOG (VoskAPI:ReadDataFiles():model.cc:312) Loading CARPA model from model/rescore/G.carpa\n",
      "LOG (VoskAPI:ReadDataFiles():model.cc:318) Loading RNNLM model from model/rnnlm/final.raw\n"
     ]
    }
   ],
   "source": [
    "model = Model(\"model\")"
   ]
  },
  {
   "cell_type": "code",
   "execution_count": 5,
   "id": "cfa7e7ca-3b31-4297-81a0-225c97ecb91d",
   "metadata": {},
   "outputs": [],
   "source": [
    "rec = KaldiRecognizer(model, FRAME_RATE)\n",
    "rec.SetWords(True)"
   ]
  },
  {
   "cell_type": "code",
   "execution_count": 6,
   "id": "13c48fda-18c9-40c8-bf18-99d54cbf6229",
   "metadata": {},
   "outputs": [],
   "source": [
    "data_pth = \"../../data/raw/jiza/\""
   ]
  },
  {
   "cell_type": "code",
   "execution_count": 7,
   "id": "a24e0af1-0fdd-40ca-aae3-b9298c363afe",
   "metadata": {},
   "outputs": [
    {
     "name": "stdout",
     "output_type": "stream",
     "text": [
      "10 глупых вопросов СОМНОЛОГУ _ Роман Бузунов-nBU3WLah-qk.m4a\n",
      "Already exists\n",
      "10 глупых вопросов ГАСТРОЭНТЕРОЛОГУ-x005wk08HwI.m4a\n",
      "Already exists\n",
      "10 глупых вопросов ГЕОЛОГУ-p5S4MzPpjHs.m4a\n",
      "Already exists\n",
      "10 глупых вопросов АНДРОЛОГУ-Bsi8GAFiNcs.m4a\n",
      "Already exists\n",
      "10 глупых вопросов ЛИНГВИСТУ-3wk2VofYhHs.m4a\n",
      "Already exists\n",
      "10 глупых вопросов ВЕНЕРОЛОГУ-wW3iW0fmx-k.m4a\n",
      "Already exists\n",
      "10 глупых вопросов ВОДОЛАЗУ-A1EWr2e7TkQ.m4a\n",
      "Already exists\n",
      "10 глупых вопросов ОТЕЛЬЕРУ _ Юнис Теймурханлы-r-02w3F9kXc.m4a\n",
      "Already exists\n",
      "10 глупых вопросов ПЛАСТИЧЕСКОМУ ХИРУРГУ-ifD2csVZeAY.m4a\n",
      "Already exists\n",
      "10 глупых вопросов СУРДОПЕРЕВОДЧИКУ-SDZg9hfzS40.m4a\n",
      "Already exists\n",
      "10 глупых вопросов ТЕРАПЕВТУ-RnimK7mVxLU.m4a\n",
      "Already exists\n",
      "10 глупых вопросов ПРОФАЙЛЕРУ-2O_Iv1-YLqE.m4a\n",
      "Already exists\n",
      "10 глупых вопросов ДРЕССИРОВЩИКУ _ Эдгард Запашный-Fx73xLfsIVE.m4a\n",
      "Already exists\n",
      "10 глупых вопросов ПСИХОАНАЛИТИКУ _ Ольга Кузнецова-pKCnDO-Dn3k.m4a\n",
      "Already exists\n",
      "10 глупых вопросов ТЕЛОХРАНИТЕЛЮ-YonLYRr10LE.m4a\n",
      "Already exists\n",
      "10 глупых вопросов РИТУАЛЬНОМУ АГЕНТУ-wST8wRtXuRE.m4a\n",
      "Already exists\n",
      "10 глупых вопросов РЕГБИСТУ _ Василий Артемьев-W07NNWelWBs.m4a\n",
      "Already exists\n",
      "10 глупых вопросов ИЛЛЮЗИОНИСТУ _ Александр Муратаев-IFdxddkbspE.m4a\n",
      "Already exists\n",
      "10 глупых вопросов ПОДОЛОГУ-cEwVwjF1Agk.m4a\n",
      "Already exists\n",
      "10 глупых вопросов РАДИОТЕРАПЕВТУ-wnvZNbBgDpI.m4a\n",
      "Already exists\n",
      "10 глупых вопросов ВИНОДЕЛУ-yvwgVwMhuHY.m4a\n",
      "Already exists\n",
      "10 глупых вопросов ГРУМЕРУ-NMlSGF9_WLE.m4a\n",
      "Already exists\n",
      "10 глупых вопросов ФИЛОСОФУ-kciEjgWCeXA.m4a\n",
      "10 глупых вопросов ТУРАГЕНТУ-eqivjIdm_X8.m4a\n",
      "10 глупых вопросов ЭНДОКРИНОЛОГУ-01mLjLi6_5c.m4a\n",
      "10 глупых вопросов ИНЖЕНЕРУ-ГАЗОВИКУ-c3ilpJe9tbs.m4a\n",
      "10 глупых вопросов АСТРОНОМУ-S-SSSIAgr6s.m4a\n",
      "10 глупых вопросов ДЕРМАТОЛОГУ-4NZeqcWAW4U.m4a\n",
      "10 глупых вопросов ВОЖАТОЙ-udx4c1pd4hs.m4a\n",
      "10 глупых вопросов КИНОКРИТИКУ _ Антон Долин-kA45qSfHI4Q.m4a\n",
      "10 глупых вопросов АНИМАТОРУ-z8ahkJ_JRrA.m4a\n",
      "10 глупых вопросов ЭЛЕКТРИКУ-qbwlEIU0L8Y.m4a\n",
      "10 глупых вопросов АВИАКОНСТРУКТОРУ-JQ6A2Jx8Dzw.m4a\n",
      "10 глупых вопросов КОМПОЗИТОРУ _ Анна Виленская-ya0-oDCiO8w.m4a\n",
      "10 глупых вопросов АЛЛЕРГОЛОГУ-CIrsAsBwSJo.m4a\n",
      "10 глупых вопросов ЭСКОРТНИЦЕ _ Ангелина Робигуд 18+-S3cjeNUNom0.m4a\n",
      "10 глупых вопросов БОКСЁРУ _ Марк Мельцер-iivmZ83YPZw.m4a\n",
      "10 глупых вопросов СОТРУДНИКУ ЗАГСА-2btnkBYKfBw.m4a\n",
      "10 глупых вопрос РЕСТАВРАТОРУ-qO-Qd-QUoUI.m4a\n",
      "10 глупых вопросов БЛАГОТВОРИТЕЛЮ _ Чулпан Хаматова-6poP9X5Xwhs.m4a\n",
      "10 глупых вопросов НЯНЕ-oisu9i7Z1I8.m4a\n",
      "10 глупых вопросов ПАЛЕОНТОЛОГУ-ZSGc3jFO5C8.m4a\n",
      "10 глупых вопросов РАЗРАБОТЧИКУ ИГР-21PGfFIrVQA.m4a\n",
      "10 глупых вопросов КАРДИОЛОГУ-aUFjuxpxrbc.m4a\n",
      "10 глупых вопросов МОУШН ДИЗАЙНЕРУ-p_YNd74pFsA.m4a\n",
      "10 глупых вопросов МАТЕМАТИКУ _ Алексей Савватеев-EYsr0DZWMCg.m4a\n",
      "10 глупых вопросов КИБЕРПРОТЕЗИСТУ-QEFqc25fZFw.m4a\n",
      "10 глупых вопросов ГОНЩИКУ _ Сергей Сироткин-2YSpe-U_qAI.m4a\n",
      "10 глупых вопросов ФЛЕБОЛОГУ-yidcQP1rQKg.m4a\n",
      "10 глупых вопросов ИНВЕСТОРУ _ Анастасия Тарасова-V0BITtJmjD8.m4a\n",
      "10 глупых вопросов ТРИХОЛОГУ-rZ5BIniu6CI.m4a\n",
      "10 глупых вопросов КРАНОВЩИЦЕ-tE3AYTdLI74.m4a\n",
      "10 глупых вопросов МАММОЛОГУ-uqf_biwVuz8.m4a\n"
     ]
    }
   ],
   "source": [
    "for el in os.scandir(data_pth):\n",
    "    if not el.name.endswith(\"m4a\"):\n",
    "        continue    \n",
    "    print(el.name)\n",
    "    \n",
    "    output_name = el.name.split(\".\")[0]+\".txt\"\n",
    "    \n",
    "    if os.path.exists(output_name):\n",
    "        print(\"Already exists\")\n",
    "        continue\n",
    "    \n",
    "    mp3 = AudioSegment.from_file(el.path)\n",
    "    mp3 = mp3.set_channels(CHANNELS)\n",
    "    mp3 = mp3.set_frame_rate(FRAME_RATE)\n",
    "\n",
    "    # Преобразуем вывод в json\n",
    "    rec.AcceptWaveform(mp3.raw_data)\n",
    "    result = rec.Result()\n",
    "    text = json.loads(result)[\"text\"]\n",
    "    \n",
    "\n",
    "    # Записываем результат в файл \"data.txt\"\n",
    "    with open(output_name, 'w') as f:\n",
    "        json.dump(text, f, ensure_ascii=False, indent=4)"
   ]
  },
  {
   "cell_type": "code",
   "execution_count": null,
   "id": "c056be5f-8300-4d10-940d-43aad46a7d07",
   "metadata": {},
   "outputs": [],
   "source": []
  }
 ],
 "metadata": {
  "kernelspec": {
   "display_name": "voice",
   "language": "python",
   "name": "voice"
  },
  "language_info": {
   "codemirror_mode": {
    "name": "ipython",
    "version": 3
   },
   "file_extension": ".py",
   "mimetype": "text/x-python",
   "name": "python",
   "nbconvert_exporter": "python",
   "pygments_lexer": "ipython3",
   "version": "3.9.7"
  }
 },
 "nbformat": 4,
 "nbformat_minor": 5
}
